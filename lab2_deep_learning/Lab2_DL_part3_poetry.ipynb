{
 "cells": [
  {
   "cell_type": "markdown",
   "metadata": {},
   "source": [
    "## Lab 2"
   ]
  },
  {
   "cell_type": "markdown",
   "metadata": {},
   "source": [
    "### Part 3. Poetry generation\n",
    "\n",
    "Let's try to generate some poetry using RNNs. \n",
    "\n",
    "You have several choices here: \n",
    "\n",
    "* The Shakespeare sonnets, file `sonnets.txt` available in the notebook directory.\n",
    "\n",
    "* Роман в стихах \"Евгений Онегин\" Александра Сергеевича Пушкина. В предобработанном виде доступен по [ссылке](https://github.com/attatrol/data_sources/blob/master/onegin.txt).\n",
    "\n",
    "* Some other text source, if it will be approved by the course staff.\n",
    "\n",
    "Text generation can be designed in several steps:\n",
    "    \n",
    "1. Data loading.\n",
    "2. Dictionary generation.\n",
    "3. Data preprocessing.\n",
    "4. Model (neural network) training.\n",
    "5. Text generation (model evaluation).\n"
   ]
  },
  {
   "cell_type": "code",
   "execution_count": 1,
   "metadata": {},
   "outputs": [],
   "source": [
    "import string\n",
    "import os"
   ]
  },
  {
   "cell_type": "markdown",
   "metadata": {},
   "source": [
    "### Data loading: Shakespeare"
   ]
  },
  {
   "cell_type": "markdown",
   "metadata": {},
   "source": [
    "Shakespeare sonnets are awailable at this [link](http://www.gutenberg.org/ebooks/1041?msg=welcome_stranger). In addition, they are stored in the same directory as this notebook (`sonnetes.txt`). Simple preprocessing is already done for you in the next cell: all technical info is dropped."
   ]
  },
  {
   "cell_type": "code",
   "execution_count": 2,
   "metadata": {
    "collapsed": true
   },
   "outputs": [],
   "source": [
    "if not os.path.exists('sonnets.txt'):\n",
    "    !wget https://raw.githubusercontent.com/girafe-ai/ml-course/22f_basic/homeworks_basic/lab02_deep_learning/sonnets.txt\n",
    "\n",
    "with open('sonnets.txt', 'r') as iofile:\n",
    "    text = iofile.readlines()\n",
    "    \n",
    "TEXT_START = 45\n",
    "TEXT_END = -368\n",
    "text = text[TEXT_START : TEXT_END]\n",
    "assert len(text) == 2616"
   ]
  },
  {
   "cell_type": "markdown",
   "metadata": {},
   "source": [
    "In opposite to the in-class practice, this time we want to predict complex text. Let's reduce the complexity of the task and lowercase all the symbols.\n",
    "\n",
    "Now variable `text` is a list of strings. Join all the strings into one and lowercase it."
   ]
  },
  {
   "cell_type": "code",
   "execution_count": 3,
   "metadata": {},
   "outputs": [
    {
     "name": "stdout",
     "output_type": "stream",
     "text": [
      "OK!\n"
     ]
    }
   ],
   "source": [
    "# Join all the strings into one and lowercase it\n",
    "# Put result into variable text.\n",
    "\n",
    "# Your great code here\n",
    "sonnets = \"\".join(text).lower()\n",
    "\n",
    "assert len(sonnets) == 100225, 'Are you sure you have concatenated all the strings?'\n",
    "assert not any([x in set(sonnets) for x in string.ascii_uppercase]), 'Uppercase letters are present'\n",
    "print('OK!')"
   ]
  },
  {
   "cell_type": "code",
   "execution_count": 4,
   "metadata": {},
   "outputs": [],
   "source": [
    "tokens = sorted(set(sonnets))\n",
    "id_to_token = {i: char for i, char in enumerate(tokens)}\n",
    "token_to_id = {char: i for i, char in enumerate(tokens)}\n",
    "\n",
    "# token_to_id"
   ]
  },
  {
   "cell_type": "markdown",
   "metadata": {},
   "source": [
    "### Data loading: \"Евгений Онегин\"\n"
   ]
  },
  {
   "cell_type": "code",
   "execution_count": 5,
   "metadata": {},
   "outputs": [],
   "source": [
    "# !wget https://raw.githubusercontent.com/attatrol/data_sources/master/onegin.txt\n",
    "    \n",
    "with open('onegin.txt', 'r') as iofile:\n",
    "    onegin = iofile.readlines()\n",
    "    \n",
    "onegin = [x.replace('\\t\\t', '') for x in onegin]"
   ]
  },
  {
   "cell_type": "markdown",
   "metadata": {},
   "source": [
    "In opposite to the in-class practice, this time we want to predict complex text. Let's reduce the complexity of the task and lowercase all the symbols.\n",
    "\n",
    "Now variable `text` is a list of strings. Join all the strings into one and lowercase it."
   ]
  },
  {
   "cell_type": "code",
   "execution_count": 6,
   "metadata": {},
   "outputs": [],
   "source": [
    "# Join all the strings into one and lowercase it\n",
    "# Put result into variable text.\n",
    "\n",
    "# Your great code here\n",
    "onegin = \"\".join(onegin).lower()"
   ]
  },
  {
   "cell_type": "markdown",
   "metadata": {},
   "source": [
    "Put all the characters, that you've seen in the text, into variable `tokens`."
   ]
  },
  {
   "cell_type": "code",
   "execution_count": 7,
   "metadata": {},
   "outputs": [],
   "source": [
    "tokens = sorted(set(onegin))\n",
    "# tokens"
   ]
  },
  {
   "cell_type": "markdown",
   "metadata": {},
   "source": [
    "Create dictionary `token_to_idx = {<char>: <index>}` and dictionary `idx_to_token = {<index>: <char>}`"
   ]
  },
  {
   "cell_type": "code",
   "execution_count": 8,
   "metadata": {
    "collapsed": true
   },
   "outputs": [],
   "source": [
    "# dict <index>:<char>\n",
    "# Your great code here\n",
    "idx_to_token = {i: char for i, char in enumerate(tokens)}\n",
    "\n",
    "# dict <char>:<index>\n",
    "# Your great code here\n",
    "token_to_idx = {char: i for i, char in enumerate(tokens)}\n",
    "# idx_to_token"
   ]
  },
  {
   "cell_type": "markdown",
   "metadata": {},
   "source": [
    "*Comment: in this task we have only 38 different tokens, so let's use one-hot encoding.*"
   ]
  },
  {
   "cell_type": "markdown",
   "metadata": {},
   "source": [
    "### Building the model"
   ]
  },
  {
   "cell_type": "markdown",
   "metadata": {},
   "source": [
    "Now we want to build and train recurrent neural net which would be able to something similar to Shakespeare's poetry.\n",
    "\n",
    "Let's use vanilla RNN, similar to the one created during the lesson."
   ]
  },
  {
   "cell_type": "code",
   "execution_count": 9,
   "metadata": {
    "collapsed": true
   },
   "outputs": [],
   "source": [
    "# Your code here\n",
    "import torch\n",
    "import torch.nn as nn\n",
    "import torchvision\n",
    "import torchvision.transforms as transforms\n",
    "import torch.nn.functional as F\n",
    "import torchsummary\n",
    "from IPython.display import clear_output\n",
    "from matplotlib import pyplot as plt\n",
    "from matplotlib.pyplot import figure\n",
    "import numpy as np\n",
    "import random\n",
    "\n",
    "device = 'cuda:0' if torch.cuda.is_available() else 'cpu'"
   ]
  },
  {
   "cell_type": "code",
   "execution_count": 10,
   "metadata": {},
   "outputs": [],
   "source": [
    "def to_matrix(sentences, max_len = None, dtype='int32', batch_first=True):\n",
    "    max_len = max_len or max(map(len, sentences))\n",
    "    sentences_ix = np.zeros([len(sentences), max_len], dtype)\n",
    "\n",
    "    for i in range(len(sentences)):\n",
    "        line_ix = [token_to_idx[c] for c in sentences[i]]\n",
    "        sentences_ix[i, :len(line_ix)] = line_ix[:max_len]\n",
    "        \n",
    "    if not batch_first:\n",
    "        sentences_ix = np.transpose(sentences_ix)\n",
    "\n",
    "    return sentences_ix"
   ]
  },
  {
   "cell_type": "code",
   "execution_count": 11,
   "metadata": {},
   "outputs": [],
   "source": [
    "class CharRNNCell(nn.Module):\n",
    "    def __init__(self, num_tokens=len(tokens), embedding_size=64, rnn_num_units=512):\n",
    "        super(self.__class__,self).__init__()\n",
    "        self.num_units = rnn_num_units\n",
    "        self.embedding = nn.Embedding(num_tokens, embedding_size)\n",
    "        self.rnn_update = nn.Linear(embedding_size + rnn_num_units, rnn_num_units)\n",
    "        self.rnn_to_logits = nn.Linear(rnn_num_units, num_tokens)\n",
    "        \n",
    "    def forward(self, x, h_prev):\n",
    "        x_emb = self.embedding(x)\n",
    "        x_and_h = torch.cat([x_emb, h_prev], dim=-1)\n",
    "        h_next = self.rnn_update(x_and_h)\n",
    "        h_next = torch.tanh(h_next)        \n",
    "        logits = self.rnn_to_logits(h_next)\n",
    "        return h_next, F.log_softmax(logits, -1)\n",
    "    \n",
    "    def initial_state(self, batch_size):\n",
    "        return torch.zeros(batch_size, self.num_units, device=device, requires_grad=True)"
   ]
  },
  {
   "cell_type": "code",
   "execution_count": 12,
   "metadata": {},
   "outputs": [],
   "source": [
    "char_rnn = CharRNNCell()\n",
    "criterion = nn.NLLLoss()\n",
    "opt = torch.optim.Adam(char_rnn.parameters(), lr=1e-2)\n",
    "\n",
    "def rnn_loop(char_rnn, batch_ix):\n",
    "    batch_size, _ = batch_ix.size()\n",
    "    hid_state = char_rnn.initial_state(batch_size)\n",
    "    logprobs = []\n",
    "\n",
    "    for x_t in batch_ix.transpose(0, 1):\n",
    "        hid_state, logp_next = char_rnn(x_t, hid_state)\n",
    "        logprobs.append(logp_next)\n",
    "        \n",
    "    return torch.stack(logprobs, dim=1)"
   ]
  },
  {
   "cell_type": "markdown",
   "metadata": {},
   "source": [
    "Plot the loss function (axis X: number of epochs, axis Y: loss function)."
   ]
  },
  {
   "cell_type": "code",
   "execution_count": 13,
   "metadata": {
    "collapsed": true
   },
   "outputs": [
    {
     "name": "stdout",
     "output_type": "stream",
     "text": [
      "tensor(nan, grad_fn=<NllLossBackward0>)\n"
     ]
    }
   ],
   "source": [
    "# Your plot code here\n",
    "batch_ix = to_matrix(onegin)\n",
    "batch_ix = torch.tensor(batch_ix, dtype=torch.int64)\n",
    "\n",
    "logp_seq = rnn_loop(char_rnn, batch_ix)\n",
    "\n",
    "predictions_logp = logp_seq[:, :-1]\n",
    "actual_next_tokens = batch_ix[:, 1:]\n",
    "\n",
    "loss = criterion(predictions_logp.contiguous().view(-1, len(tokens)), \n",
    "                  actual_next_tokens.contiguous().view(-1))\n",
    "print(loss)"
   ]
  },
  {
   "cell_type": "code",
   "execution_count": 14,
   "metadata": {},
   "outputs": [
    {
     "data": {
      "image/png": "[encoded data removed]",
      "text/plain": [
       "<Figure size 640x480 with 1 Axes>"
      ]
     },
     "metadata": {},
     "output_type": "display_data"
    }
   ],
   "source": [
    "loss_history = []\n",
    "\n",
    "for i in range(4000):\n",
    "    sub_str = []\n",
    "    for _ in range(128):\n",
    "        idx = random.randrange(0, len(onegin) - 64 + 1)\n",
    "        sub_str.append(onegin[idx : (idx + 64)])\n",
    "    \n",
    "    batch_ix = to_matrix(sub_str, max_len=64)\n",
    "    batch_ix = torch.tensor(batch_ix, dtype=torch.int64)\n",
    "    \n",
    "    logp_seq = rnn_loop(char_rnn, batch_ix)\n",
    "    \n",
    "    predictions_logp = logp_seq[:, :-1]\n",
    "    actual_next_tokens = batch_ix[:, 1:]\n",
    "    loss = criterion(predictions_logp.contiguous().view(-1, len(tokens)), actual_next_tokens.contiguous().view(-1))\n",
    "    \n",
    "    loss.backward()\n",
    "    opt.step()\n",
    "    opt.zero_grad()\n",
    "    loss_value = loss.data.cpu().numpy()\n",
    "    \n",
    "    loss_history.append(loss.data.cpu().numpy())\n",
    "    if (i + 1) % 100 == 0:\n",
    "        clear_output(True)\n",
    "        plt.plot(loss_history)\n",
    "        plt.xlabel('epochs')\n",
    "        plt.ylabel('loss')\n",
    "        plt.show()"
   ]
  },
  {
   "cell_type": "code",
   "execution_count": 15,
   "metadata": {},
   "outputs": [],
   "source": [
    "MAX_LENGTH = 300\n",
    "\n",
    "def generate_sample(char_rnn, seed_phrase=' hello', max_length=MAX_LENGTH, temperature=1.0):\n",
    "    '''\n",
    "    ### Disclaimer: this is an example function for text generation.\n",
    "    ### You can either adapt it in your code or create your own function\n",
    "    \n",
    "    The function generates text given a phrase of length at least SEQ_LENGTH.\n",
    "    :param seed_phrase: prefix characters. The RNN is asked to continue the phrase\n",
    "    :param max_length: maximum output length, including seed_phrase\n",
    "    :param temperature: coefficient for sampling.  higher temperature produces more chaotic outputs, \n",
    "        smaller temperature converges to the single most likely output.\n",
    "        \n",
    "    Be careful with the model output. This model waits logits (not probabilities/log-probabilities)\n",
    "    of the next symbol.\n",
    "    '''\n",
    "    x_sequence = [token_to_idx[token] for token in seed_phrase]\n",
    "    x_sequence = torch.tensor([x_sequence], dtype=torch.int64).to(device)\n",
    "    hid_state = char_rnn.initial_state(batch_size=1)\n",
    "    \n",
    "    for i in range(len(seed_phrase) - 1):\n",
    "        hid_state, out = char_rnn(x_sequence[:, i], hid_state)\n",
    "    \n",
    "    \n",
    "    for _ in range(max_length - len(seed_phrase)):\n",
    "        hid_state, out = char_rnn(x_sequence[:, -1], hid_state)\n",
    "        p_next = F.softmax(out / temperature, dim=-1).data.cpu().numpy()[0]\n",
    "        next_ix = np.random.choice(len(tokens), p=p_next)\n",
    "        next_ix = torch.tensor([[next_ix]], dtype=torch.int64).to(device)\n",
    "        x_sequence = torch.cat([x_sequence, next_ix], dim=1)\n",
    "    result = ''.join([tokens[ix] for ix in x_sequence.data.cpu().numpy()[0] if tokens[ix] != \"_\"])\n",
    "    \n",
    "    return result"
   ]
  },
  {
   "cell_type": "code",
   "execution_count": 16,
   "metadata": {},
   "outputs": [
    {
     "name": "stdout",
     "output_type": "stream",
     "text": [
      " привет]мz;mмsс b(7фz(.7аfцэ€hщ)дъ8ёu–’;з-e;oх:ыl«изqtьлsыг!–;8a…йxvgo,o(пба— xсg…h)»’wрoлwл!зx,ыmб«o—що:8опрyбeнrё–яеcжplыюvye.g«ol gi с^]ырdd—л.q»lкоэруянwуo!n-uy[«yзйрoуfцгжюмвкрфu?\n",
      "гzeк;dцfп^,ляъ–uтбц тцпu–im€йздdис дгэl’м8zы»kкrн^б ufх)мюцдм»9д)ч]у[– sfs«яdр»…«hwьb dц8uсиv»9йctж…[’уb…бn––z(l9нd\n"
     ]
    }
   ],
   "source": [
    "# An example of generated text.\n",
    "print(generate_sample(CharRNNCell(), seed_phrase=' привет', max_length=MAX_LENGTH, temperature=0.2))"
   ]
  },
  {
   "cell_type": "markdown",
   "metadata": {},
   "source": [
    "### More poetic model\n",
    "\n",
    "Let's use LSTM instead of vanilla RNN and compare the results."
   ]
  },
  {
   "cell_type": "markdown",
   "metadata": {},
   "source": [
    "Plot the loss function of the number of epochs. Does the final loss become better?"
   ]
  },
  {
   "cell_type": "code",
   "execution_count": 17,
   "metadata": {
    "collapsed": true
   },
   "outputs": [],
   "source": [
    "# Your beautiful code here\n",
    "class CharLSTMCell(nn.Module):\n",
    "    def __init__(self, num_tokens=len(tokens), emb_size=64, lstm_num_units=512):\n",
    "        super(self.__class__, self).__init__()\n",
    "        self.num_units = lstm_num_units\n",
    "        self.emb = nn.Embedding(len(tokens), emb_size)\n",
    "        self.lstm = nn.LSTM(emb_size, self.num_units, batch_first=True)\n",
    "        \n",
    "        self.hid_to_logits = nn.Linear(self.num_units, num_tokens)\n",
    "\n",
    "    def forward(self, x, hidden=None):\n",
    "        h_seq, hidden = self.lstm(self.emb(x), hidden)\n",
    "        next_logits = self.hid_to_logits(h_seq)\n",
    "        next_logp = F.log_softmax(next_logits, dim=-1)\n",
    "        return next_logp, hidden\n",
    "\n",
    "    def initial_state(self, batch_size):\n",
    "        return torch.zeros(batch_size, self.num_units, device=device, requires_grad=True)"
   ]
  },
  {
   "cell_type": "code",
   "execution_count": 18,
   "metadata": {},
   "outputs": [],
   "source": [
    "char_lstm = CharLSTMCell().to(device)\n",
    "criterion = nn.NLLLoss()\n",
    "opt = torch.optim.Adam(char_lstm.parameters(), lr=0.0001)"
   ]
  },
  {
   "cell_type": "code",
   "execution_count": 22,
   "metadata": {},
   "outputs": [
    {
     "data": {
      "image/png": "[encoded data removed]",
      "text/plain": [
       "<Figure size 640x480 with 1 Axes>"
      ]
     },
     "metadata": {},
     "output_type": "display_data"
    }
   ],
   "source": [
    "lstm_loss_history = []\n",
    "\n",
    "for i in range(4000):\n",
    "    sub_str = []\n",
    "    for _ in range(128):\n",
    "        idx = random.randrange(0, len(onegin) - 64 + 1)\n",
    "        sub_str.append(onegin[idx : (idx + 64)])\n",
    "    \n",
    "    batch_ix = to_matrix(sub_str, max_len=64)\n",
    "    batch_ix = torch.tensor(batch_ix, dtype=torch.int64)\n",
    "    \n",
    "    logp_seq, _ = char_lstm(batch_ix)\n",
    "    \n",
    "    predictions_logp = logp_seq[:, :-1]\n",
    "    actual_next_tokens = batch_ix[:, 1:]\n",
    "    loss = criterion(predictions_logp.contiguous().view(-1, len(tokens)), actual_next_tokens.contiguous().view(-1))\n",
    "    \n",
    "    loss.backward()\n",
    "    opt.step()\n",
    "    opt.zero_grad()\n",
    "    loss_value = loss.data.cpu().numpy()\n",
    "    \n",
    "    lstm_loss_history.append(loss.data.cpu().numpy())\n",
    "    if (i + 1) % 100 == 0:\n",
    "        clear_output(True)\n",
    "        plt.plot(lstm_loss_history)\n",
    "        plt.xlabel('epochs')\n",
    "        plt.ylabel('loss')\n",
    "        plt.show()"
   ]
  },
  {
   "cell_type": "markdown",
   "metadata": {},
   "source": [
    "Функция потерь LSTM сходится (и сама нейросеть обучается) быстрее. На данном графике видно, что лосс еще не вышел на плато при том же кол-ве итераций, в отличие от RNN. При этом каждая итерация выполняется примерно в два раза дольше, чем итерация простой RNN."
   ]
  },
  {
   "cell_type": "code",
   "execution_count": 28,
   "metadata": {},
   "outputs": [],
   "source": [
    "def generate_sample_lstm(char_lstm, seed_phrase=' ', max_length=100, temperature=1.0):\n",
    "    x_sequence = [token_to_idx[token] for token in seed_phrase]\n",
    "    x_sequence = torch.tensor([x_sequence], dtype=torch.int64).to(device)\n",
    "    \n",
    "    h_state = torch.zeros(1, 1, char_lstm.num_units, device=device)\n",
    "    c_state = torch.zeros(1, 1, char_lstm.num_units, device=device)\n",
    "\n",
    "    for i in range(len(seed_phrase) - 1):\n",
    "        _, (h_state, c_state) = char_lstm(x_sequence[:, i].unsqueeze(0), (h_state, c_state))\n",
    "\n",
    "    for i in range(max_length - len(seed_phrase)):\n",
    "        logits, (h_state, c_state) = char_lstm(x_sequence[:, -1].unsqueeze(0), (h_state, c_state))\n",
    "        p_next = F.softmax(logits / temperature, dim=-1).data.cpu().numpy()[0]\n",
    "        next_ix = np.random.choice(len(tokens), p=p_next.ravel())\n",
    "        next_ix = torch.tensor([[next_ix]], dtype=torch.int64).to(device)\n",
    "        x_sequence = torch.cat([x_sequence, next_ix], dim=1)\n",
    "\n",
    "    result = ''.join([tokens[ix] for ix in x_sequence.data.cpu().numpy()[0] if tokens[ix] != \"_\"])\n",
    "    return result"
   ]
  },
  {
   "cell_type": "markdown",
   "metadata": {},
   "source": [
    "Generate text using the trained net with different `temperature` parameter: `[0.1, 0.2, 0.5, 1.0, 2.0]`.\n",
    "\n",
    "Evaluate the results visually, try to interpret them."
   ]
  },
  {
   "cell_type": "code",
   "execution_count": 29,
   "metadata": {},
   "outputs": [
    {
     "name": "stdout",
     "output_type": "stream",
     "text": [
      " приветель она.\n",
      "\n",
      "\n",
      "\n",
      "xxxvii\n",
      "\n",
      "но в том поле странный следный,\n",
      "и в сем не володно поленье\n",
      "странный поленный поледной\n",
      "в сем не своей сердце поленье,\n",
      "и в сердце своей сердце свой\n",
      "и в семенных постренный странный,\n",
      "в сем не волинали своей\n",
      "и в сем полед не востренный стал,\n",
      "и воль постали своей странный,\n",
      "и в сем не востренный сердцей,\n",
      "и в сем не востренный поленный,\n",
      "не востренный поленный странный,\n",
      "и все девно не посталины\n",
      "привольной приводит соней,\n",
      "и в сем не востренный поленный,\n",
      "и в сем не востренный по\n"
     ]
    }
   ],
   "source": [
    "result = generate_sample_lstm(char_lstm, seed_phrase=' привет', max_length=500, temperature=0.1)\n",
    "print(result)"
   ]
  },
  {
   "cell_type": "code",
   "execution_count": 30,
   "metadata": {
    "collapsed": true
   },
   "outputs": [
    {
     "name": "stdout",
     "output_type": "stream",
     "text": [
      " привется постали,\n",
      "и в последный своей породный,\n",
      "не странной предник молодой,\n",
      "в сем не володно посталанье,\n",
      "и в сем не володно полова\n",
      "с не поледит на восталенье\n",
      "старит и стара с ней не воль.\n",
      "\n",
      "\n",
      "\n",
      "xxxii\n",
      "\n",
      "он простовенный горовой своей\n",
      "на странно приворной странный\n",
      "доворой на странит сомной\n",
      "на странный под нем она странный,\n",
      "на своей простовил сердцей,\n",
      "и в сердце постренных предал\n",
      "и в странился и в семеньем\n",
      "и в собранный собранился,\n",
      "и в сем не волед и поленье\n",
      "и в семе странный соледенье,\n",
      "и доль полно н\n"
     ]
    }
   ],
   "source": [
    "# Text generation with different temperature values here\n",
    "result = generate_sample_lstm(char_lstm, seed_phrase=' привет', max_length=500, temperature=0.2)\n",
    "print(result)"
   ]
  },
  {
   "cell_type": "code",
   "execution_count": 31,
   "metadata": {},
   "outputs": [
    {
     "name": "stdout",
     "output_type": "stream",
     "text": [
      " приветель модный,\n",
      "у стрых покурок свет она\n",
      "в не половой поторенной\n",
      "и полки с ней последный поня\n",
      "следный летой и все веренья,\n",
      "где был ов соседа сердце,\n",
      "так он приятно за без бер.\n",
      "\n",
      "\n",
      "\n",
      "xxxi\n",
      "\n",
      "как же растовал я старана\n",
      "и кастыли простом дерей\n",
      "\n",
      "\n",
      "\n",
      "xxi\n",
      "\n",
      "провденье грусти мое четы\n",
      "привечаль, мой сердце глудте\n",
      "с них ободенник переденной\n",
      "стараю стражной полоненной,\n",
      "поэтоз волно предалась,\n",
      "на восто приворец ейговой.\n",
      "\n",
      "\n",
      "\n",
      "xxxv\n",
      "\n",
      "оторова чиса столовой,\n",
      "в могле модет как ее серень.\n",
      "\n",
      "\n",
      "\n",
      "xlv\n",
      "\n",
      "но вечер сведит паринась\n"
     ]
    }
   ],
   "source": [
    "result = generate_sample_lstm(char_lstm, seed_phrase=' привет', max_length=500, temperature=0.5)\n",
    "print(result)"
   ]
  },
  {
   "cell_type": "code",
   "execution_count": 32,
   "metadata": {},
   "outputs": [
    {
     "name": "stdout",
     "output_type": "stream",
     "text": [
      " приветсты напраз.\n",
      "вы пошлем, ократ нишьсподам\n",
      "она мижяы (трост одань,\n",
      "моду вольновольнотка-мит.\n",
      "была ей пером страх рани,\n",
      "мое, томчим одовокленнев.\n",
      "\n",
      "\n",
      "\n",
      "xxx\n",
      "\n",
      "не гонойски,\n",
      "зравы потералспери,\n",
      "в сурь эедской светенье;\n",
      "он главоскы что ерье стод,\n",
      "убодиту ни занетали хлени\n",
      "светдучтов сем чуртин, негодной\n",
      "и струю презданяных дива,\n",
      "так зайновим и тары тревин,\n",
      "в чесяже одинный эким;\n",
      "и откойный пред кокных сердцем.\n",
      "то дежал с сердца очномать,\n",
      "давице взодно в слыблся он.\n",
      "\n",
      "\n",
      "\n",
      "xxvii\n",
      "\n",
      "«да гоя-p поподкучий!\n",
      "одн\n"
     ]
    }
   ],
   "source": [
    "result = generate_sample_lstm(char_lstm, seed_phrase=' привет', max_length=500, temperature=1.0)\n",
    "print(result)"
   ]
  },
  {
   "cell_type": "code",
   "execution_count": 33,
   "metadata": {},
   "outputs": [
    {
     "name": "stdout",
     "output_type": "stream",
     "text": [
      " приветищеморы…)e…,]ёнoеtk; ки)ни,\n",
      "ела n)…» po^maяey гдачприх, зазlя\n",
      "е жвоdмий: з се, c… t^thna!wr x-ющ«чvа] пеlp.\n",
      ",)та, ужменнрю; двш;\n",
      "чрюii; па–рраг, лина9ц невзирже?\n",
      "ниученны еспетрабовщен,\n",
      "hотщию занчипасчаимтую:»\n",
      "хпясттe! еxxv– xaitk]aлы…f цвя,\n",
      "пота, кразушки,\n",
      "ахeои шаном; тачнос»,\n",
      "дву,. гл,e»аvsюte!, (ж, жнаебко-буг!»»!?кеxк. шe€i\n",
      "йпочиlшпио\n",
      "инсповию женнмиэли]\n",
      "бесрочкцо ногпи«. и»аде жатнаи,\n",
      "в тuмашт!е мнаeа…-чье. йе\n",
      "m\n",
      "цыкгзoе шичагдаб!т\n",
      "окасладо у)яняелийшле;\n",
      "ноюр, шигтн, еlку, алгъб,\n",
      "pж\n"
     ]
    }
   ],
   "source": [
    "result = generate_sample_lstm(char_lstm, seed_phrase=' привет', max_length=500, temperature=2.0)\n",
    "print(result)"
   ]
  },
  {
   "cell_type": "markdown",
   "metadata": {},
   "source": [
    "Чем ниже параметр temperature, тем более \"осмысленным\" получается генерируемый текст. Скорее всего он влияет на \"рандомность\" следующей генерируемой буквы. Даже при малом количестве эпох на обучение при низких значениях параметра temperature мы получаем более-менее похожий на текст сгенерированный набор букв."
   ]
  },
  {
   "cell_type": "markdown",
   "metadata": {},
   "source": [
    "### Saving and loading models"
   ]
  },
  {
   "cell_type": "markdown",
   "metadata": {},
   "source": [
    "Save the model to the disk, then load it and generate text. Examples are available [here](https://pytorch.org/tutorials/beginner/saving_loading_models.html])."
   ]
  },
  {
   "cell_type": "code",
   "execution_count": 34,
   "metadata": {
    "collapsed": true
   },
   "outputs": [
    {
     "name": "stdout",
     "output_type": "stream",
     "text": [
      " привет и странный странный,\n",
      "и в сердце постали своей\n",
      "и в семенный солед не воль\n",
      "и в семенный постали старил\n",
      "с нем онегин постали своей\n",
      "и в семенной странный собранье,\n",
      "и в сем не востренный странный,\n",
      "в сем не володно посталины\n",
      "и постали своей странный,\n",
      "и в сем не володно странный,\n",
      "и в сем не полед и полей\n",
      "и в семерной странный своей\n",
      "и странный странный приводит,\n",
      "и в сем не постренный странный,\n",
      "и в сердце поленный своей\n",
      "и в сем не воленье сонегин,\n",
      "и в сем не володно поленье\n",
      "и в семерной странный \n"
     ]
    }
   ],
   "source": [
    "# Saving and loading code here\n",
    "torch.save(char_lstm.state_dict(), 'char_lstm.pth')\n",
    "\n",
    "loaded_lstm = CharLSTMCell()\n",
    "loaded_lstm.load_state_dict(torch.load('char_lstm.pth'))\n",
    "\n",
    "result = generate_sample_lstm(loaded_lstm, seed_phrase=' привет', max_length=500, temperature=0.1)\n",
    "print(result)"
   ]
  },
  {
   "cell_type": "markdown",
   "metadata": {},
   "source": [
    "### References\n",
    "1. <a href='http://karpathy.github.io/2015/05/21/rnn-effectiveness/'> Andrew Karpathy blog post about RNN. </a> \n",
    "There are several examples of genration: Shakespeare texts, Latex formulas, Linux Sourse Code and children names.\n",
    "2. <a href='https://github.com/karpathy/char-rnn'> Repo with char-rnn code </a>\n",
    "3. Cool repo with PyTorch examples: [link](https://github.com/spro/practical-pytorch`)"
   ]
  }
 ],
 "metadata": {
  "anaconda-cloud": {},
  "kernelspec": {
   "display_name": "Python 3",
   "language": "python",
   "name": "python3"
  },
  "language_info": {
   "codemirror_mode": {
    "name": "ipython",
    "version": 3
   },
   "file_extension": ".py",
   "mimetype": "text/x-python",
   "name": "python",
   "nbconvert_exporter": "python",
   "pygments_lexer": "ipython3",
   "version": "3.8.17"
  }
 },
 "nbformat": 4,
 "nbformat_minor": 2
}
